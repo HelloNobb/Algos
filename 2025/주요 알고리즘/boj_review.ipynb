{
 "cells": [
  {
   "cell_type": "markdown",
   "id": "4315abe3",
   "metadata": {},
   "source": [
    " # 백준 9020번 - 골드바흐의 추측\n",
    "\n",
    "골드바흐의 추측은 유명한 정수론의 미해결 문제로, 2보다 큰 모든 짝수는 두 소수의 합으로 나타낼 수 있다는 것이다. \n",
    "\n",
    "입력\n",
    "첫째 줄에 테스트 케이스의 개수 T가 주어진다. 각 테스트 케이스는 한 줄로 이루어져 있고 짝수 n이 주어진다.\n",
    "\n",
    "출력\n",
    "각 테스트 케이스에 대해서 주어진 n의 골드바흐 파티션을 출력한다. 출력하는 소수는 작은 것부터 먼저 출력하며, 공백으로 구분한다.\n",
    "\n",
    "예제 입력 1 \n",
    "3\n",
    "8\n",
    "10\n",
    "16\n",
    "예제 출력 1 \n",
    "3 5\n",
    "5 5\n",
    "5 11\n",
    "\n",
    "## 리뷰\n",
    " - 접근 방법: \n",
    "\t1) 범위(~1만)까지중에 소수를 미리 전부 찾아 배열 P에 넣어둔다. ****\n",
    "\t2) 입력된 숫자의 반(=타깃)을 구한 뒤, -1씩 해가며 소수배열 P에 그 수가 있을때까지 확인\n",
    "\t3) 타깃이 소수가 되면, \"입력된 숫자 - 타깃\"(=타깃2) 값이 소수배열 P에 있는지 확인 (-> 정답이므로 출력) *****\n",
    "\t4) 타깃2가 소수배열에 없다면 타깃은 꽝. 아까 하던 -1씩 해가며 다음으로 작은 소수를 찾으며 위 작업을 반복한다.\n",
    "\n",
    " - 실패 이유:\n",
    "\n",
    "\t> 타깃2도 막연히 소수배열 중에 찾을 생각만 하고 타깃1과의 합이 입력된 수라는 것을 이용하지 못함.\n",
    "\t\t[ 타깃2 = 입력수 - 타깃 ] 을 생각못함"
   ]
  },
  {
   "cell_type": "code",
   "execution_count": null,
   "id": "ae2f29a9",
   "metadata": {},
   "outputs": [],
   "source": [
    "#골드바흐 - 2제외 모든 짝수는 두 소수의 합으로 나타낼 수 있음\n",
    "\n",
    "## 일단 <에라토스테네스의 체> 이용해 소거법으로 100까지만 소수구하기\n",
    "PRIMES = [] # 1만까지의 전체 소수 집어넣음\n",
    "count=0\n",
    "for num in range(2, 10000):\n",
    "    idx=-1\n",
    "    # num 소수판별\n",
    "    for i in range(2,num+1):\n",
    "        if num % i == 0:\n",
    "            idx = i\n",
    "            break\n",
    "    if idx == num: #소수조건\n",
    "       count+=1\n",
    "       PRIMES.append(idx)\n",
    "       \n",
    "def get_gold(n):\n",
    "    target = n // 2\n",
    "    target2 = -1\n",
    "    while True:\n",
    "        if target in PRIMES:\n",
    "            target2 = n - target\n",
    "            if target2 in PRIMES: #정답\n",
    "                print(target, target2)\n",
    "                return\n",
    "        target = target-1\n",
    "     \n",
    "N = int(input())\n",
    "T = []\n",
    "for _ in range(N):\n",
    "    x = int(input())\n",
    "    T.append(x)\n",
    "\n",
    "for t in T:\n",
    "    get_gold(t)"
   ]
  },
  {
   "cell_type": "markdown",
   "id": "4819da23",
   "metadata": {},
   "source": [
    "\n",
    "<소수 판별 알고리즘>\n",
    "\n",
    "# 사전 지식\n",
    " - '소수': 약수가 1과 자기자신 뿐인 수\n",
    " - 소수 판별 기본: 1과 자기자신외에 다른 약수가 있는지 확인\n",
    "\t> 방법1:  2~n-1 까지 판별 (비효율적)\n",
    "\n",
    "\t> 방법2:  *약수는 axb = n에서의 a,b이고, 하나는 절대 √n보다 같거나 작음*\n",
    "\t\t\t- 2~√n 까지만 판별  (훨씬 효율적)\n",
    "\n",
    "\t> 방법3:  *[에라토스테네스의 체] 이용* (아래참고)\n",
    "\n",
    "\n",
    "## \"에라토스테네스의 체\"\n",
    " : 소수 판별 소거법으로 효율적으로 해결법\n",
    "\n",
    "1) 처음엔 범위까지의 수 전체를 소수라 가정 (범위크기의 배열에 전부 True넣음)\n",
    "2) 작은 소수부터 그 배수들을 쭉 지워나감 (False) , (i가 소수라면, i*i ~ i간격 지워나감)\n",
    "3) 마지막에 True로 남은 인덱스가 소수"
   ]
  },
  {
   "cell_type": "code",
   "execution_count": null,
   "id": "5ac8861f",
   "metadata": {},
   "outputs": [],
   "source": [
    "##### <에라토스테네스의 체> 이용한 1~n까지의 소수 판별 알고리즘\n",
    "\n",
    "max = 10\n",
    "# 초기셋팅 (0,1 제외 일단 전부 소수취급)\n",
    "is_prime = [True] * (max+1)\n",
    "is_prime[0] = is_prime[1] = False\n",
    "# 소수 아닌거 걸러내기 ()\n",
    "for i in range(2, int(max**0.5) + 1): # 반띵해서 앞부분만 돌려도 전체범위의 수들의 약수가 하나이상있는지는 확인가능\n",
    "    if is_prime[i]: # 합성수이면 이미 이전 작은 소수단계에서 이미지워짐\n",
    "        for j in range(i*i, max+1, i):\n",
    "            is_prime[j] = False"
   ]
  },
  {
   "cell_type": "markdown",
   "id": "563cbffa",
   "metadata": {},
   "source": [
    "<h1>백준 2869 - 달팽이는 올라가고 싶다</h1>\n",
    "\n",
    "땅 위에 달팽이가 있다. 이 달팽이는 높이가 V미터인 나무 막대를 올라갈 것이다.\n",
    "달팽이는 낮에 A미터 올라갈 수 있다. 하지만, 밤에 잠을 자는 동안 B미터 미끄러진다. \n",
    "또, **정상에 올라간 후에는 미끄러지지 않는다.**\n",
    "\n",
    "달팽이가 나무 막대를 모두 올라가려면, 며칠이 걸리는지?\n",
    "\n",
    "<h5>입력</h5>\n",
    "첫째 줄에 세 정수 A, B, V가 공백으로 구분되어서 주어진다. <br>(1 ≤ B < A ≤ V ≤ 1,000,000,000)\n",
    "\n",
    "<h5>출력</h5>\n",
    "첫째 줄에 달팽이가 나무 막대를 모두 올라가는데 며칠이 걸리는지 출력한다.\n",
    "<hr>\n",
    "\n",
    "## 포인트 ##\n",
    "1. 마지막엔 낮으로 끝남 (어차피 정상찍으면 끝이라 밤까지 계산 X)\n",
    "2. 애초에 하루마다 n일동안 올라갈 목표를 V가 아닌 낮에 올라갈 한번치 뺀 값으로 설정하기 \n",
    "    > 마지막에 나온 Day에 +1해주면 되니까(마지막날 낮에 올라가는것도 하루취급)"
   ]
  },
  {
   "cell_type": "code",
   "execution_count": null,
   "id": "f7929de2",
   "metadata": {},
   "outputs": [],
   "source": [
    "import math\n",
    "A,B,V = map(int, input().split())\n",
    "day = math.ceil((V-A)/(A-B)) + 1\t#math.ceil() : 무조건 올림 해주는 메소드\n",
    "print(day)"
   ]
  },
  {
   "cell_type": "markdown",
   "id": "2835f275",
   "metadata": {},
   "source": [
    "<h3>무조건 올림해주는 이유</h3>\n",
    "* V-A 지점까지 8.XX일이 걸린다면, 실질적으로 9 + 1 = 10일 필요<br>\n",
    "* V-A 지점까지 정확히 8일이 걸린다면, 실질적으로도 8 + 1 = 9일 필요<br>\n",
    ">> 정수가 아닐 경우 무조건 올려서 하루 더해줘야 맞게 계산됨"
   ]
  },
  {
   "cell_type": "markdown",
   "id": "39cc731a",
   "metadata": {},
   "source": [
    "<h1>백준 1912번 - 하노이 탑</h1>\n",
    "\n",
    "세 개의 장대가 있고 첫 번째 장대에는 반경이 서로 다른 n개의 원판이 쌓여 있다. 각 원판은 반경이 큰 순서대로 쌓여있다. 이제 수도승들이 다음 규칙에 따라 첫 번째 장대에서 세 번째 장대로 옮기려 한다.\n",
    "\n",
    "한 번에 한 개의 원판만을 다른 탑으로 옮길 수 있다.\n",
    "쌓아 놓은 원판은 항상 위의 것이 아래의 것보다 작아야 한다.\n",
    "이 작업을 수행하는데 필요한 이동 순서를 출력하는 프로그램을 작성하라. 단, 이동 횟수는 최소가 되어야 한다.\n",
    "\n"
   ]
  },
  {
   "cell_type": "markdown",
   "id": "a0b3876b",
   "metadata": {},
   "source": []
  },
  {
   "cell_type": "markdown",
   "id": "53ea0f43",
   "metadata": {},
   "source": [
    "<h1>순열 계산</h1>\n",
    " - itertools 라이브러리 이용"
   ]
  },
  {
   "cell_type": "code",
   "execution_count": null,
   "id": "f63fd0cf",
   "metadata": {},
   "outputs": [
    {
     "ename": "",
     "evalue": "",
     "output_type": "error",
     "traceback": [
      "\u001b[1;31m'Python 3.12.6'(으)로 셀을 실행하려면 ipykernel 패키지가 필요합니다.\n",
      "\u001b[1;31m필요한 패키지를 사용하여 <a href='command:jupyter.createPythonEnvAndSelectController'>Python 환경 만들기</a>\n",
      "\u001b[1;31m또는 다음 명령을 사용하여 'ipykernel'을(를) 설치합니다. '/usr/local/bin/python3.12 -m pip install ipykernel -U --user --force-reinstall'"
     ]
    }
   ],
   "source": [
    "arr = [1,2,3]\n",
    "p = list(itertools.permutations(arr,3))\n",
    "print(p)\t# [ 1,2,3 , 2,1,3 , 3,1,2 , .... ]"
   ]
  }
 ],
 "metadata": {
  "kernelspec": {
   "display_name": "Python 3",
   "language": "python",
   "name": "python3"
  },
  "language_info": {
   "name": "python",
   "version": "3.12.6"
  }
 },
 "nbformat": 4,
 "nbformat_minor": 5
}
